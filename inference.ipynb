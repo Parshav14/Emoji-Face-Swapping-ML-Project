{
 "cells": [
  {
   "cell_type": "code",
   "execution_count": null,
   "id": "eb7e7a95",
   "metadata": {},
   "outputs": [],
   "source": [
    "import cv2\n",
    "import numpy as np\n",
    "import mediapipe as mp\n",
    "import keras\n",
    "from keras.models import load_model"
   ]
  },
  {
   "cell_type": "code",
   "execution_count": null,
   "id": "9fe0ae30",
   "metadata": {},
   "outputs": [],
   "source": [
    "model = load_model(\"model.h5\")\n",
    "label = np.load(\"labels.npy\")"
   ]
  },
  {
   "cell_type": "code",
   "execution_count": null,
   "id": "cdab3641",
   "metadata": {},
   "outputs": [],
   "source": [
    "holistic = mp.solutions.holistic\n",
    "hands = mp.solutions.hands\n",
    "holis = holistic.Holistic()\n",
    "drawing = mp.solutions.drawing_utils"
   ]
  },
  {
   "cell_type": "code",
   "execution_count": null,
   "id": "6fcc4e71",
   "metadata": {},
   "outputs": [],
   "source": [
    "cap = cv2.VideoCapture(0)"
   ]
  },
  {
   "cell_type": "code",
   "execution_count": null,
   "id": "467da3ad",
   "metadata": {
    "scrolled": false
   },
   "outputs": [],
   "source": [
    "while True:\n",
    "    lst = []\n",
    "    _, frame = cap.read()\n",
    "    \n",
    "    frame = cv2.flip(frame, 1)\n",
    "    \n",
    "    res = holis.process(cv2.cvtColor(frame, cv2.COLOR_BGR2RGB))\n",
    "    \n",
    "    if res.face_landmarks:\n",
    "        for i in res.face_landmarks.landmark:\n",
    "            lst.append(i.x - res.face_landmarks.landmark[1].x)\n",
    "            lst.append(i.y - res.face_landmarks.landmark[1].y)\n",
    "            \n",
    "        if res.left_hand_landmarks:\n",
    "            for i in res.left_hand_landmarks.landmark:\n",
    "                lst.append(i.x - res.left_hand_landmarks.landmark[8].x)\n",
    "                lst.append(i.y - res.left_hand_landmarks.landmark[8].y)\n",
    "                \n",
    "        else:\n",
    "            for i in range(42):\n",
    "                lst.append(0.0)\n",
    "                \n",
    "        if res.right_hand_landmarks:\n",
    "            for i in res.right_hand_landmarks.landmark:\n",
    "                lst.append(i.x - res.right_hand_landmarks.landmark[8].x)\n",
    "                lst.append(i.y - res.right_hand_landmarks.landmark[8].y)\n",
    "                \n",
    "        else:\n",
    "            for i in range(42):\n",
    "                lst.append(0.0)\n",
    "                \n",
    "        lst = np.array(lst).reshape(1,-1)\n",
    "        pred = label[np.argmax(model.predict(lst))]\n",
    "        print(pred)\n",
    "        cv2.putText(frame, pred, (50,50), cv2.FONT_ITALIC, 1, (255,0,0), 2)\n",
    "    \n",
    "    drawing.draw_landmarks(frame, res.face_landmarks, holistic.FACEMESH_CONTOURS)\n",
    "    drawing.draw_landmarks(frame, res.right_hand_landmarks, hands.HAND_CONNECTIONS)\n",
    "    drawing.draw_landmarks(frame, res.left_hand_landmarks, hands.HAND_CONNECTIONS)\n",
    "    \n",
    "    cv2.imshow('frame', frame)\n",
    "    \n",
    "    if cv2.waitKey(1) & 0xFF == ord('q'):\n",
    "        break\n",
    "cap.release()\n",
    "cv2.destroyAllWindows()"
   ]
  }
 ],
 "metadata": {
  "kernelspec": {
   "display_name": "Python 3 (ipykernel)",
   "language": "python",
   "name": "python3"
  },
  "language_info": {
   "codemirror_mode": {
    "name": "ipython",
    "version": 3
   },
   "file_extension": ".py",
   "mimetype": "text/x-python",
   "name": "python",
   "nbconvert_exporter": "python",
   "pygments_lexer": "ipython3",
   "version": "3.11.3"
  }
 },
 "nbformat": 4,
 "nbformat_minor": 5
}
