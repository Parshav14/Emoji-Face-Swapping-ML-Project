{
 "cells": [
  {
   "cell_type": "code",
   "execution_count": 1,
   "id": "4a3084cf",
   "metadata": {},
   "outputs": [],
   "source": [
    "import os\n",
    "import numpy as np\n",
    "import cv2\n",
    "import keras\n",
    "import tensorflow\n",
    "from tensorflow.keras.utils import to_categorical"
   ]
  },
  {
   "cell_type": "code",
   "execution_count": 2,
   "id": "f83ebf04",
   "metadata": {},
   "outputs": [],
   "source": [
    "from keras.layers import Input, Dense\n",
    "from keras.models import Model"
   ]
  },
  {
   "cell_type": "code",
   "execution_count": 3,
   "id": "9088d115",
   "metadata": {},
   "outputs": [],
   "source": [
    "is_init = False\n",
    "size = -1\n",
    "\n",
    "label = []\n",
    "dictionary = {}\n",
    "c = 0"
   ]
  },
  {
   "cell_type": "code",
   "execution_count": 4,
   "id": "f29fc77a",
   "metadata": {},
   "outputs": [],
   "source": [
    "for i in os.listdir():\n",
    "    if i.split(\".\")[-1] == \"npy\" and not(i.split(\".\")[0] == \"labels\"):\n",
    "        if not(is_init):\n",
    "            is_init = True\n",
    "            X = np.load(i)\n",
    "            size = X.shape[0]\n",
    "            y = np.array([i.split('.')[0]]*size).reshape(-1,1)\n",
    "        else:\n",
    "            X = np.concatenate((X, np.load(i)))\n",
    "            y = np.concatenate((y, np.array([i.split('.')[0]]*size).reshape(-1,1)))\n",
    "            \n",
    "        label.append(i.split('.')[0])\n",
    "        dictionary[i.split('.')[0]] = c\n",
    "        c = c + 1"
   ]
  },
  {
   "cell_type": "code",
   "execution_count": 5,
   "id": "9f7a9522",
   "metadata": {
    "scrolled": false
   },
   "outputs": [
    {
     "name": "stdout",
     "output_type": "stream",
     "text": [
      "{'goodluck': 0, 'hello': 1, 'nope': 2}\n",
      "['goodluck', 'hello', 'nope']\n"
     ]
    }
   ],
   "source": [
    "print(dictionary)\n",
    "print(label)"
   ]
  },
  {
   "cell_type": "code",
   "execution_count": 6,
   "id": "7661c586",
   "metadata": {
    "scrolled": false
   },
   "outputs": [],
   "source": [
    "for i in range(y.shape[0]):\n",
    "    y[i, 0] = dictionary[y[i, 0]]\n",
    "y = np.array(y, dtype=\"int32\")"
   ]
  },
  {
   "cell_type": "code",
   "execution_count": 7,
   "id": "cc0f312e",
   "metadata": {},
   "outputs": [
    {
     "name": "stdout",
     "output_type": "stream",
     "text": [
      "(300, 1)\n",
      "(300, 3)\n"
     ]
    }
   ],
   "source": [
    "print(y.shape)\n",
    "y= to_categorical(y)\n",
    "X_new = X.copy()\n",
    "y_new = y.copy()\n",
    "counter = 0\n",
    "\n",
    "cnt = np.arange(X.shape[0])\n",
    "\n",
    "np.random.shuffle(cnt)\n",
    "\n",
    "for i in cnt:\n",
    "    X_new[counter] = X[i]\n",
    "    y_new[counter] = y[i]\n",
    "    counter = counter + 1\n",
    "print(y.shape)"
   ]
  },
  {
   "cell_type": "code",
   "execution_count": 8,
   "id": "74b4d3a8",
   "metadata": {},
   "outputs": [
    {
     "name": "stdout",
     "output_type": "stream",
     "text": [
      "Epoch 1/50\n",
      "10/10 [==============================] - 1s 7ms/step - loss: 1.1025 - acc: 0.4367\n",
      "Epoch 2/50\n",
      "10/10 [==============================] - 0s 6ms/step - loss: 0.9151 - acc: 0.5667\n",
      "Epoch 3/50\n",
      "10/10 [==============================] - 0s 7ms/step - loss: 0.8595 - acc: 0.6067\n",
      "Epoch 4/50\n",
      "10/10 [==============================] - 0s 7ms/step - loss: 0.7723 - acc: 0.6533\n",
      "Epoch 5/50\n",
      "10/10 [==============================] - 0s 6ms/step - loss: 0.7342 - acc: 0.7000\n",
      "Epoch 6/50\n",
      "10/10 [==============================] - 0s 6ms/step - loss: 0.6573 - acc: 0.7033\n",
      "Epoch 7/50\n",
      "10/10 [==============================] - 0s 7ms/step - loss: 0.6540 - acc: 0.7233\n",
      "Epoch 8/50\n",
      "10/10 [==============================] - 0s 6ms/step - loss: 0.6544 - acc: 0.6800\n",
      "Epoch 9/50\n",
      "10/10 [==============================] - 0s 6ms/step - loss: 0.6217 - acc: 0.7267\n",
      "Epoch 10/50\n",
      "10/10 [==============================] - 0s 6ms/step - loss: 0.5822 - acc: 0.7167\n",
      "Epoch 11/50\n",
      "10/10 [==============================] - 0s 6ms/step - loss: 0.5750 - acc: 0.7567\n",
      "Epoch 12/50\n",
      "10/10 [==============================] - 0s 6ms/step - loss: 0.6858 - acc: 0.6833\n",
      "Epoch 13/50\n",
      "10/10 [==============================] - 0s 6ms/step - loss: 0.5501 - acc: 0.7100\n",
      "Epoch 14/50\n",
      "10/10 [==============================] - 0s 6ms/step - loss: 0.5819 - acc: 0.7267\n",
      "Epoch 15/50\n",
      "10/10 [==============================] - 0s 6ms/step - loss: 0.5593 - acc: 0.7100\n",
      "Epoch 16/50\n",
      "10/10 [==============================] - 0s 6ms/step - loss: 0.5843 - acc: 0.7033\n",
      "Epoch 17/50\n",
      "10/10 [==============================] - 0s 6ms/step - loss: 0.5505 - acc: 0.7033\n",
      "Epoch 18/50\n",
      "10/10 [==============================] - 0s 6ms/step - loss: 0.5648 - acc: 0.7233\n",
      "Epoch 19/50\n",
      "10/10 [==============================] - 0s 6ms/step - loss: 0.5127 - acc: 0.7267\n",
      "Epoch 20/50\n",
      "10/10 [==============================] - 0s 6ms/step - loss: 0.5192 - acc: 0.7200\n",
      "Epoch 21/50\n",
      "10/10 [==============================] - 0s 6ms/step - loss: 0.5932 - acc: 0.7200\n",
      "Epoch 22/50\n",
      "10/10 [==============================] - 0s 6ms/step - loss: 0.5036 - acc: 0.7900\n",
      "Epoch 23/50\n",
      "10/10 [==============================] - 0s 6ms/step - loss: 0.5712 - acc: 0.6900\n",
      "Epoch 24/50\n",
      "10/10 [==============================] - 0s 6ms/step - loss: 0.4931 - acc: 0.7500\n",
      "Epoch 25/50\n",
      "10/10 [==============================] - 0s 8ms/step - loss: 0.4962 - acc: 0.7500\n",
      "Epoch 26/50\n",
      "10/10 [==============================] - 0s 8ms/step - loss: 0.5042 - acc: 0.7700\n",
      "Epoch 27/50\n",
      "10/10 [==============================] - 0s 10ms/step - loss: 0.4776 - acc: 0.7933\n",
      "Epoch 28/50\n",
      "10/10 [==============================] - 0s 9ms/step - loss: 0.5229 - acc: 0.7400\n",
      "Epoch 29/50\n",
      "10/10 [==============================] - 0s 9ms/step - loss: 0.4856 - acc: 0.7767\n",
      "Epoch 30/50\n",
      "10/10 [==============================] - 0s 10ms/step - loss: 0.4873 - acc: 0.7833\n",
      "Epoch 31/50\n",
      "10/10 [==============================] - 0s 10ms/step - loss: 0.4789 - acc: 0.7367\n",
      "Epoch 32/50\n",
      "10/10 [==============================] - 0s 10ms/step - loss: 0.4896 - acc: 0.7867\n",
      "Epoch 33/50\n",
      "10/10 [==============================] - 0s 10ms/step - loss: 0.4598 - acc: 0.8200\n",
      "Epoch 34/50\n",
      "10/10 [==============================] - 0s 11ms/step - loss: 0.4694 - acc: 0.8100\n",
      "Epoch 35/50\n",
      "10/10 [==============================] - 0s 10ms/step - loss: 0.4255 - acc: 0.7933\n",
      "Epoch 36/50\n",
      "10/10 [==============================] - 0s 10ms/step - loss: 0.4696 - acc: 0.7733\n",
      "Epoch 37/50\n",
      "10/10 [==============================] - 0s 10ms/step - loss: 0.4426 - acc: 0.8233\n",
      "Epoch 38/50\n",
      "10/10 [==============================] - 0s 10ms/step - loss: 0.4833 - acc: 0.7967\n",
      "Epoch 39/50\n",
      "10/10 [==============================] - 0s 9ms/step - loss: 0.4138 - acc: 0.8200\n",
      "Epoch 40/50\n",
      "10/10 [==============================] - 0s 11ms/step - loss: 0.4683 - acc: 0.7667\n",
      "Epoch 41/50\n",
      "10/10 [==============================] - 0s 11ms/step - loss: 0.4649 - acc: 0.7767\n",
      "Epoch 42/50\n",
      "10/10 [==============================] - 0s 10ms/step - loss: 0.4552 - acc: 0.7933\n",
      "Epoch 43/50\n",
      "10/10 [==============================] - 0s 10ms/step - loss: 0.4289 - acc: 0.8133\n",
      "Epoch 44/50\n",
      "10/10 [==============================] - 0s 9ms/step - loss: 0.4604 - acc: 0.8233\n",
      "Epoch 45/50\n",
      "10/10 [==============================] - 0s 10ms/step - loss: 0.4425 - acc: 0.7933\n",
      "Epoch 46/50\n",
      "10/10 [==============================] - 0s 10ms/step - loss: 0.4271 - acc: 0.7900\n",
      "Epoch 47/50\n",
      "10/10 [==============================] - 0s 10ms/step - loss: 0.4239 - acc: 0.7900\n",
      "Epoch 48/50\n",
      "10/10 [==============================] - 0s 8ms/step - loss: 0.3982 - acc: 0.8167\n",
      "Epoch 49/50\n",
      "10/10 [==============================] - 0s 8ms/step - loss: 0.4356 - acc: 0.8167\n",
      "Epoch 50/50\n",
      "10/10 [==============================] - 0s 7ms/step - loss: 0.3659 - acc: 0.8367\n"
     ]
    },
    {
     "name": "stderr",
     "output_type": "stream",
     "text": [
      "C:\\Users\\parsh\\anaconda3\\Lib\\site-packages\\keras\\src\\engine\\training.py:3000: UserWarning: You are saving your model as an HDF5 file via `model.save()`. This file format is considered legacy. We recommend using instead the native Keras format, e.g. `model.save('my_model.keras')`.\n",
      "  saving_api.save_model(\n"
     ]
    }
   ],
   "source": [
    "ip = Input(shape=(X.shape[1]))\n",
    "m = Dense(512, activation=\"relu\")(ip)\n",
    "m = Dense(256, activation=\"relu\")(m)\n",
    "op = Dense(y.shape[1], activation=\"softmax\")(m)\n",
    "model = Model(inputs=ip, outputs=op)\n",
    "model.compile(optimizer='rmsprop', loss=\"categorical_crossentropy\", metrics=['acc'])\n",
    "model.fit(X, y, epochs=50)\n",
    "model.save(\"model.h5\")\n",
    "np.save(\"labels.npy\", np.array(label))"
   ]
  }
 ],
 "metadata": {
  "kernelspec": {
   "display_name": "Python 3 (ipykernel)",
   "language": "python",
   "name": "python3"
  },
  "language_info": {
   "codemirror_mode": {
    "name": "ipython",
    "version": 3
   },
   "file_extension": ".py",
   "mimetype": "text/x-python",
   "name": "python",
   "nbconvert_exporter": "python",
   "pygments_lexer": "ipython3",
   "version": "3.11.3"
  }
 },
 "nbformat": 4,
 "nbformat_minor": 5
}
