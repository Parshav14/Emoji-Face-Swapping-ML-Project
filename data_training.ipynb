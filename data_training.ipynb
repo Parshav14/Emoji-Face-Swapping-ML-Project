{
 "cells": [
  {
   "cell_type": "code",
   "execution_count": null,
   "id": "4a3084cf",
   "metadata": {},
   "outputs": [],
   "source": [
    "import os\n",
    "import numpy as np\n",
    "import cv2\n",
    "import keras\n",
    "import tensorflow\n",
    "from tensorflow.keras.utils import to_categorical"
   ]
  },
  {
   "cell_type": "code",
   "execution_count": null,
   "id": "f83ebf04",
   "metadata": {},
   "outputs": [],
   "source": [
    "from keras.layers import Input, Dense\n",
    "from keras.models import Model"
   ]
  },
  {
   "cell_type": "code",
   "execution_count": null,
   "id": "9088d115",
   "metadata": {},
   "outputs": [],
   "source": [
    "is_init = False\n",
    "size = -1\n",
    "\n",
    "label = []\n",
    "dictionary = {}\n",
    "c = 0"
   ]
  },
  {
   "cell_type": "code",
   "execution_count": null,
   "id": "f29fc77a",
   "metadata": {},
   "outputs": [],
   "source": [
    "for i in os.listdir():\n",
    "    if i.split(\".\")[-1] == \"npy\" and not(i.split(\".\")[0] == \"labels\"):\n",
    "        if not(is_init):\n",
    "            is_init = True\n",
    "            X = np.load(i)\n",
    "            size = X.shape[0]\n",
    "            y = np.array([i.split('.')[0]]*size).reshape(-1,1)\n",
    "        else:\n",
    "            X = np.concatenate((X, np.load(i)))\n",
    "            y = np.concatenate((y, np.array([i.split('.')[0]]*size).reshape(-1,1)))\n",
    "            \n",
    "        label.append(i.split('.')[0])\n",
    "        dictionary[i.split('.')[0]] = c\n",
    "        c = c + 1"
   ]
  },
  {
   "cell_type": "code",
   "execution_count": null,
   "id": "9f7a9522",
   "metadata": {
    "scrolled": false
   },
   "outputs": [],
   "source": [
    "print(dictionary)\n",
    "print(label)"
   ]
  },
  {
   "cell_type": "code",
   "execution_count": null,
   "id": "7661c586",
   "metadata": {
    "scrolled": false
   },
   "outputs": [],
   "source": [
    "for i in range(y.shape[0]):\n",
    "    y[i, 0] = dictionary[y[i, 0]]\n",
    "y = np.array(y, dtype=\"int32\")"
   ]
  },
  {
   "cell_type": "code",
   "execution_count": null,
   "id": "cc0f312e",
   "metadata": {},
   "outputs": [],
   "source": [
    "print(y.shape)\n",
    "y= to_categorical(y)\n",
    "X_new = X.copy()\n",
    "y_new = y.copy()\n",
    "counter = 0\n",
    "\n",
    "cnt = np.arange(X.shape[0])\n",
    "\n",
    "np.random.shuffle(cnt)\n",
    "\n",
    "for i in cnt:\n",
    "    X_new[counter] = X[i]\n",
    "    y_new[counter] = y[i]\n",
    "    counter = counter + 1\n",
    "print(y.shape)"
   ]
  },
  {
   "cell_type": "code",
   "execution_count": null,
   "id": "74b4d3a8",
   "metadata": {},
   "outputs": [],
   "source": [
    "ip = Input(shape=(X.shape[1]))\n",
    "m = Dense(512, activation=\"relu\")(ip)\n",
    "m = Dense(256, activation=\"relu\")(m)\n",
    "op = Dense(y.shape[1], activation=\"softmax\")(m)\n",
    "model = Model(inputs=ip, outputs=op)\n",
    "model.compile(optimizer='rmsprop', loss=\"categorical_crossentropy\", metrics=['acc'])\n",
    "model.fit(X, y, epochs=50)\n",
    "model.save(\"model.h5\")\n",
    "np.save(\"labels.npy\", np.array(label))"
   ]
  }
 ],
 "metadata": {
  "kernelspec": {
   "display_name": "Python 3 (ipykernel)",
   "language": "python",
   "name": "python3"
  },
  "language_info": {
   "codemirror_mode": {
    "name": "ipython",
    "version": 3
   },
   "file_extension": ".py",
   "mimetype": "text/x-python",
   "name": "python",
   "nbconvert_exporter": "python",
   "pygments_lexer": "ipython3",
   "version": "3.11.3"
  }
 },
 "nbformat": 4,
 "nbformat_minor": 5
}
