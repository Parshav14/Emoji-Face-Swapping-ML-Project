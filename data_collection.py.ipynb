{
 "cells": [
  {
   "cell_type": "code",
   "execution_count": null,
   "id": "0bd167a9",
   "metadata": {},
   "outputs": [],
   "source": [
    "import mediapipe as mp\n",
    "import numpy as np\n",
    "import cv2"
   ]
  },
  {
   "cell_type": "code",
   "execution_count": null,
   "id": "ad2a6280",
   "metadata": {},
   "outputs": [],
   "source": [
    "cap = cv2.VideoCapture(0)\n",
    "\n",
    "name = input(\"Enter the name of the data: \")\n",
    "\n",
    "holistic = mp.solutions.holistic\n",
    "hands = mp.solutions.hands\n",
    "holis = holistic.Holistic()\n",
    "drawing = mp.solutions.drawing_utils\n",
    "\n",
    "X = []\n",
    "data_size = 0\n",
    "\n",
    "while True:\n",
    "    lst = []\n",
    "    _, frame = cap.read()\n",
    "    \n",
    "    frame = cv2.flip(frame, 1)\n",
    "    \n",
    "    res = holis.process(cv2.cvtColor(frame, cv2.COLOR_BGR2RGB))\n",
    "    \n",
    "    if res.face_landmarks:\n",
    "        for i in res.face_landmarks.landmark:\n",
    "            lst.append(i.x - res.face_landmarks.landmark[1].x)\n",
    "            lst.append(i.y - res.face_landmarks.landmark[1].y)\n",
    "            \n",
    "        if res.left_hand_landmarks:\n",
    "            for i in res.left_hand_landmarks.landmark:\n",
    "                lst.append(i.x - res.left_hand_landmarks.landmark[8].x)\n",
    "                lst.append(i.y - res.left_hand_landmarks.landmark[8].y)\n",
    "                \n",
    "        else:\n",
    "            for i in range(42):\n",
    "                lst.append(0.0)\n",
    "                \n",
    "        if res.right_hand_landmarks:\n",
    "            for i in res.right_hand_landmarks.landmark:\n",
    "                lst.append(i.x - res.right_hand_landmarks.landmark[8].x)\n",
    "                lst.append(i.y - res.right_hand_landmarks.landmark[8].y)\n",
    "                \n",
    "        else:\n",
    "            for i in range(42):\n",
    "                lst.append(0.0)\n",
    "                \n",
    "        X.append(lst)\n",
    "        data_size = data_size + 1\n",
    "    \n",
    "    drawing.draw_landmarks(frame, res.face_landmarks, holistic.FACEMESH_CONTOURS)\n",
    "    drawing.draw_landmarks(frame, res.right_hand_landmarks, hands.HAND_CONNECTIONS)\n",
    "    drawing.draw_landmarks(frame, res.left_hand_landmarks, hands.HAND_CONNECTIONS)\n",
    "    \n",
    "    cv2.putText(frame, str(data_size), (50,50), cv2.FONT_HERSHEY_SIMPLEX, 1, (0,255,0),2)\n",
    "    \n",
    "    cv2.imshow('frame', frame)\n",
    "    \n",
    "    if cv2.waitKey(1) & 0xFF == ord('q') or data_size > 99:\n",
    "        break\n",
    "cap.release()\n",
    "cv2.destroyAllWindows()"
   ]
  },
  {
   "cell_type": "code",
   "execution_count": null,
   "id": "6e8412b8",
   "metadata": {},
   "outputs": [],
   "source": [
    "np.save(f\"{name}.npy\" , np.array(X))\n",
    "print(np.array(X).shape)"
   ]
  }
 ],
 "metadata": {
  "kernelspec": {
   "display_name": "Python 3 (ipykernel)",
   "language": "python",
   "name": "python3"
  },
  "language_info": {
   "codemirror_mode": {
    "name": "ipython",
    "version": 3
   },
   "file_extension": ".py",
   "mimetype": "text/x-python",
   "name": "python",
   "nbconvert_exporter": "python",
   "pygments_lexer": "ipython3",
   "version": "3.11.3"
  }
 },
 "nbformat": 4,
 "nbformat_minor": 5
}
